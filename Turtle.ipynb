{
 "cells": [
  {
   "cell_type": "code",
   "execution_count": null,
   "metadata": {
    "tags": []
   },
   "outputs": [],
   "source": [
    "from ipyturtle import Turtle\n",
    "\n",
    "def parse(commands):\n",
    "    parsed, i = [], 0\n",
    "    while i < len(commands):\n",
    "        if commands[i] == 'repeat':\n",
    "            n = int(commands[i+1])\n",
    "            j, s = i + 2, 1\n",
    "            while s:\n",
    "                j += 1\n",
    "                if commands[j] == '[':\n",
    "                    s += 1\n",
    "                if commands[j] == ']':\n",
    "                    s -= 1\n",
    "            parsed.extend(parse(commands[i+3:j])*n)\n",
    "            i = j+1\n",
    "        else:\n",
    "            parsed.append(commands[i])\n",
    "            i+=1\n",
    "    return parsed\n",
    "\n",
    "t = Turtle(fixed=False, width=500, height=500)\n",
    "\n",
    "bindings = {\n",
    "    'fd': t.forward,\n",
    "    'bk': t.back,\n",
    "    'rt': t.right,\n",
    "    'pu': t.penup,\n",
    "    'pd': t.pendown,\n",
    "    'ht': t.hideturtle,\n",
    "}\n",
    "\n",
    "def run(command):\n",
    "    t.reset()\n",
    "    commands = parse(command.split())\n",
    "    for i, c in enumerate(commands):\n",
    "        if c in ['fd', 'bk', 'rt']:\n",
    "            bindings[c](int(commands.pop(i+1)))\n",
    "        else:\n",
    "            bindings[c]()\n",
    "\n",
    "t"
   ]
  },
  {
   "cell_type": "code",
   "execution_count": null,
   "metadata": {
    "tags": []
   },
   "outputs": [],
   "source": [
    "run(\"repeat 4 [ fd 100 pu fd 100 rt 90 pd ]\")"
   ]
  },
  {
   "cell_type": "markdown",
   "metadata": {
    "tags": []
   },
   "source": [
    "![A](img/A.png)"
   ]
  },
  {
   "cell_type": "code",
   "execution_count": null,
   "metadata": {},
   "outputs": [],
   "source": [
    "run(\"repeat 20 [ fd 120 bk 120 rt 18 ] ht\")"
   ]
  },
  {
   "cell_type": "markdown",
   "metadata": {},
   "source": [
    "![B](img/B.png)"
   ]
  },
  {
   "cell_type": "code",
   "execution_count": null,
   "metadata": {},
   "outputs": [],
   "source": [
    "run(\"repeat 8 [ repeat 4 [ fd 100 rt 90 ] rt 45 ] ht\")"
   ]
  },
  {
   "cell_type": "markdown",
   "metadata": {
    "tags": []
   },
   "source": [
    "![C](img/C.png)"
   ]
  },
  {
   "cell_type": "code",
   "execution_count": null,
   "metadata": {},
   "outputs": [],
   "source": [
    "run(\"repeat 36 [ repeat 8 [ fd 50 rt 45 ] rt 10 ] ht\")"
   ]
  },
  {
   "cell_type": "markdown",
   "metadata": {},
   "source": [
    "![D](img/D.png)"
   ]
  }
 ],
 "metadata": {
  "language_info": {
   "codemirror_mode": {
    "name": "ipython",
    "version": 3
   },
   "file_extension": ".py",
   "mimetype": "text/x-python",
   "name": "python",
   "nbconvert_exporter": "python",
   "pygments_lexer": "ipython3",
   "version": "3.7.3-final"
  },
  "orig_nbformat": 2,
  "kernelspec": {
   "name": "python37364bitbasecondad84b5608f725479ebb661b69a0c29c53",
   "display_name": "Python 3.7.3 64-bit ('base': conda)"
  }
 },
 "nbformat": 4,
 "nbformat_minor": 2
}