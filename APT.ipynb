{
 "cells": [
  {
   "cell_type": "markdown",
   "metadata": {},
   "source": [
    "# CS APT\n",
    "\n",
    "### Question 1\n",
    "```python\n",
    "1,5,3,2,4\n",
    "3,1,4,5,2\n",
    "4,2,5,1,3\n",
    "2,3,1,4,5\n",
    "5,4,2,3,1\n",
    "```\n",
    "\n",
    "### Question 2\n",
    "1. Knave\n",
    "2. Knight\n",
    "3. Knight\n",
    "4. Knave\n",
    "5. Knave\n",
    "6. Knight\n",
    "7. Knave\n",
    "8. Knight\n",
    "9. Spy\n",
    "10. Knave\n",
    "11. Knave\n",
    "12. Spy\n",
    "13. Knight\n",
    "\n",
    "### Question 3\n",
    "Refer to `Turtle.ipynb`\n",
    "\n",
    "a. `repeat 4 [ fd 100 pu fd 100 rt 90 pd ]`\n",
    "\n",
    "b. `repeat 20 [ fd 120 bk 120 rt 18 ] ht`\n",
    "\n",
    "c. `repeat 8 [ repeat 4 [ fd 100 rt 90 ] rt 45 ] ht`\n",
    "\n",
    "d. `repeat 36 [ repeat 8 [ fd 50 rt 45 ] rt 10 ] ht`\n",
    "\n",
    "### Question 4\n",
    "a. $4! = 24$\n",
    "\n",
    "b. `[2, 5, 1, 4, 3] -> [5, 2, 1, 4, 3] -> [3, 4, 1, 2, 5] -> [4, 3, 1, 2, 5] -> [2, 1, 3, 4, 5] -> [3, 1, 2, 4, 5] -> [2, 1, 3, 4, 5]`\n",
    "\n",
    "c. `[2, 4, 1, 3] -flip(2)> [4, 2, 1, 3] -flip(4)> [3, 1, 2, 4] -flip(3)> [2, 1, 3, 4] -flip(2)> [1, 2, 3, 4]`\n",
    "\n",
    "d. Write `pancake(config, n)` to generate list of flip operations.\n"
   ]
  },
  {
   "cell_type": "code",
   "execution_count": 1,
   "metadata": {
    "tags": []
   },
   "outputs": [
    {
     "output_type": "execute_result",
     "data": {
      "text/plain": "[2, 4, 1, 3, 2, 2]"
     },
     "metadata": {},
     "execution_count": 1
    }
   ],
   "source": [
    "def pancake(config, n):\n",
    "    if config == [1]:\n",
    "        return []\n",
    "\n",
    "    # find the largest element and move it to the back\n",
    "    # we do this by finding its index, flipping(index+1), then flipping whole config\n",
    "    # i.e. [1, 3, 2] -> biggest element `3` is at index `1`\n",
    "    # [1, 3, 2] -flip(2)> [3, 1, 2] so now `3` is at the front\n",
    "    # [3, 1, 2] -flip(3)> [2, 1, 3] so now `3` is at the back\n",
    "    i = config.index(max(config)) + 1\n",
    "    config = flip(n, flip(i, config))\n",
    "\n",
    "    # we then can 'ignore' the `3` as it is in the right spot\n",
    "    # we prepend the flip operations to get `3` behind\n",
    "    return [i, n] + pancake(config[:-1], n-1)\n",
    "    \n",
    "# not part of the answer as question specifies not needed\n",
    "def flip(n, stack):\n",
    "    return list(reversed(stack[:n])) + stack[n:]\n",
    "\n",
    "test_config = [1, 4, 2, 3]\n",
    "pancake(test_config, len(test_config))"
   ]
  },
  {
   "cell_type": "markdown",
   "metadata": {},
   "source": [
    "e. Go through an example for `d.`"
   ]
  },
  {
   "cell_type": "code",
   "execution_count": 2,
   "metadata": {
    "tags": []
   },
   "outputs": [
    {
     "output_type": "stream",
     "name": "stdout",
     "text": "[1, 4, 2, 3] -flip(2)> [4, 1, 2, 3]\n[4, 1, 2, 3] -flip(4)> [3, 2, 1, 4]\n[3, 2, 1, 4] -flip(1)> [3, 2, 1, 4]\n[3, 2, 1, 4] -flip(3)> [1, 2, 3, 4]\n[1, 2, 3, 4] -flip(2)> [2, 1, 3, 4]\n[2, 1, 3, 4] -flip(2)> [1, 2, 3, 4]\n"
    }
   ],
   "source": [
    "seq = pancake(test_config, len(test_config))\n",
    "\n",
    "def verbose_flip(n, stack):\n",
    "    flipped = list(reversed(stack[:n])) + stack[n:]\n",
    "    print(\"{} -flip({})> {}\".format(stack, n, flipped))\n",
    "    return flipped\n",
    "\n",
    "config = test_config\n",
    "while seq:\n",
    "    config = verbose_flip(seq.pop(0), config)"
   ]
  },
  {
   "cell_type": "markdown",
   "metadata": {},
   "source": [
    "### Question 5\n",
    "Checking if a number is _automorphic_: a number whose square ends in the same digits as the number itself"
   ]
  },
  {
   "cell_type": "code",
   "execution_count": 3,
   "metadata": {
    "tags": []
   },
   "outputs": [
    {
     "output_type": "stream",
     "name": "stdout",
     "text": "True\nTrue\nTrue\n"
    }
   ],
   "source": [
    "def is_automorphic(n):\n",
    "    num_digits = 1\n",
    "    while n/(10**num_digits) > 1:\n",
    "        num_digits += 1\n",
    "    \n",
    "    return n**2 % 10**num_digits == n\n",
    "\n",
    "print(is_automorphic(5))\n",
    "print(is_automorphic(6))\n",
    "print(is_automorphic(376))"
   ]
  },
  {
   "cell_type": "markdown",
   "metadata": {},
   "source": [
    "### Question 6\n",
    "Dividing complex numbers"
   ]
  },
  {
   "cell_type": "code",
   "execution_count": 4,
   "metadata": {
    "tags": []
   },
   "outputs": [
    {
     "output_type": "stream",
     "name": "stdout",
     "text": "Answer: 0.2804878048780488 + -0.524390243902439i\n"
    }
   ],
   "source": [
    "class ComplexNumber():\n",
    "    def __init__(self, a, b):\n",
    "        # a+bi\n",
    "        self.a = float(a)\n",
    "        self.b = float(b)\n",
    "\n",
    "    def __str__(self):\n",
    "        return \"{} + {}i\".format(self.a, self.b)\n",
    "        \n",
    "    def __truediv__(self, other):\n",
    "        # x/y = (a+bi)/(c+di)\n",
    "        a,b,c,d = self.a, self.b, other.a, other.b\n",
    "        ans_real = (a*c+b*d)/(c**2+d**2)\n",
    "        ans_im = (b*c-a*d)/(c**2+d**2)\n",
    "        return ComplexNumber(ans_real, ans_im)\n",
    "\n",
    "x = input('Enter 1st complex number: ') # 5 2\n",
    "y = input('Enter 2nd complex number: ') # 1 9\n",
    "\n",
    "x_a, x_b, y_a, y_b = map(int, (*x.split(' '), *y.split(' ')))\n",
    "x = ComplexNumber(x_a, x_b)\n",
    "y = ComplexNumber(y_a, y_b)\n",
    "\n",
    "print('Answer: {}'.format(x/y))\n"
   ]
  },
  {
   "cell_type": "markdown",
   "metadata": {},
   "source": [
    "### Question 7\n",
    "Removing duplicate characters from a string"
   ]
  },
  {
   "cell_type": "code",
   "execution_count": 5,
   "metadata": {
    "tags": []
   },
   "outputs": [
    {
     "output_type": "stream",
     "name": "stdout",
     "text": "Modified string\t: Zz3gaG,A!2-01K.\n"
    }
   ],
   "source": [
    "def modify(s):\n",
    "    modified = \"\"\n",
    "    for c in s:\n",
    "        if c not in modified:\n",
    "            modified += c\n",
    "    return modified\n",
    "\n",
    "original_str = input(\"Enter string\\t: \") # Zz3gaaG,Aa!zZzA2-333a,01KK.\n",
    "print(\"Modified string\\t: {}\".format(modify(original_str)))"
   ]
  },
  {
   "cell_type": "markdown",
   "metadata": {},
   "source": [
    "### Question 8\n",
    "Condensing pages"
   ]
  },
  {
   "cell_type": "code",
   "execution_count": 6,
   "metadata": {
    "tags": []
   },
   "outputs": [
    {
     "output_type": "stream",
     "name": "stdout",
     "text": "Condensed list: 100 241-243 374-375 480\n"
    }
   ],
   "source": [
    "num_pages = input('Enter the number of pages: ') # 7\n",
    "pages = input('Enter the pages: ') # 100 241 242 243 374 375 480\n",
    "pages = list(map(int, pages.split(' ')))\n",
    "condensed = ''\n",
    "\n",
    "for i, page in enumerate(pages):\n",
    "    # start of a new closed range\n",
    "    condensed += ' {}'.format(page)\n",
    "\n",
    "    # get the end of this range\n",
    "    end = page\n",
    "    while i+1 < len(pages) and pages[i+1] == end+1:\n",
    "        end=pages.pop(i+1)\n",
    "\n",
    "    # if range is more than 1 page long\n",
    "    if end != page:\n",
    "        condensed += '-{}'.format(end)\n",
    "\n",
    "\n",
    "print('Condensed list: {}'.format(condensed[1:]))"
   ]
  },
  {
   "cell_type": "markdown",
   "metadata": {},
   "source": [
    "### Question 9\n",
    "a. Fill $n\\times n$ matrix with random values"
   ]
  },
  {
   "cell_type": "code",
   "execution_count": 7,
   "metadata": {
    "tags": []
   },
   "outputs": [
    {
     "output_type": "execute_result",
     "data": {
      "text/plain": "[[54, 38, 17, 29], [19, 33, 39, 92], [45, 49, 79, 100], [90, 70, 31, 83]]"
     },
     "metadata": {},
     "execution_count": 7
    }
   ],
   "source": [
    "from random import randint\n",
    "\n",
    "def randomize_matrix(mat, n):\n",
    "    for i in range(n):\n",
    "        row = []\n",
    "        for j in range(n):\n",
    "            r = randint(1,100)\n",
    "            while r in row:\n",
    "                r = randint(1,100)\n",
    "            row.append(r)\n",
    "        mat[i] = row\n",
    "    return mat\n",
    "        \n",
    "\n",
    "mat = [[0] * 4 for _ in range(4)]\n",
    "randomize_matrix(mat, 4)"
   ]
  },
  {
   "cell_type": "markdown",
   "metadata": {},
   "source": [
    "b. Find largest sum of a path in the $n\\times n$ `mat` from top-left to bottom-right, with only right or down moves.\n",
    "\n",
    "$O(n^2)$"
   ]
  },
  {
   "cell_type": "code",
   "execution_count": 8,
   "metadata": {},
   "outputs": [
    {
     "output_type": "execute_result",
     "data": {
      "text/plain": "396"
     },
     "metadata": {},
     "execution_count": 8
    }
   ],
   "source": [
    "def max_total(mat, n):\n",
    "    # let max_sum[j][i] be the max possible sum from (0,0) to (i,j)\n",
    "    max_sum = [[0] * n for _ in range(n)]\n",
    "    # max_sum[0][0] is just the value at mat[0][0]\n",
    "    max_sum[0][0] = mat[0][0]\n",
    "\n",
    "    # iterate thru the matrix from left to right, top to bottom\n",
    "    for y in range(n):\n",
    "        for x in range(n):\n",
    "            # ignore (0,0)\n",
    "            if y == 0 and x == 0:\n",
    "                continue\n",
    "\n",
    "            if y == 0:\n",
    "                # for top row, only need to consider left value\n",
    "                max_sum[y][x] = max_sum[y][x-1] + mat[y][x]\n",
    "            elif x == 0:\n",
    "                # for left most col, only need to consider top value\n",
    "                max_sum[y][x] = max_sum[y-1][x] + mat[y][x]\n",
    "            else:\n",
    "                # we consider the 2 possibilites of 'coming from above' and 'coming from left'\n",
    "                # i.e. (x, y-1) vs (x-1, y)\n",
    "                max_sum[y][x] = max(max_sum[y-1][x], max_sum[y][x-1]) + mat[y][x]\n",
    "        \n",
    "    # the max_sum from (0,0) to bottom-right (n-1, n-1)\n",
    "    return max_sum[n-1][n-1]\n",
    "\n",
    "mat = [[12, 42, 79, 15],\n",
    "       [60, 55, 98, 65],\n",
    "       [ 7, 42, 32, 13],\n",
    "       [98, 64, 19, 87]]\n",
    "max_total(mat, 4)"
   ]
  },
  {
   "cell_type": "markdown",
   "metadata": {},
   "source": [
    "Recursion\n",
    "\n",
    "$O(2^N)$?"
   ]
  },
  {
   "cell_type": "code",
   "execution_count": 9,
   "metadata": {},
   "outputs": [
    {
     "output_type": "execute_result",
     "data": {
      "text/plain": "396"
     },
     "metadata": {},
     "execution_count": 9
    }
   ],
   "source": [
    "def max_total(mat, n):\n",
    "    # max_sum gets the max sum from (x,y) to the bottom-right (n-1, n-1)\n",
    "    def max_sum(x, y):\n",
    "        if x >= n or y >= n:\n",
    "           return 0\n",
    "        # try both possibilities: going to the right vs going down\n",
    "        return max(max_sum(x+1, y), max_sum(x, y+1)) + mat[y][x]\n",
    "\n",
    "    return max_sum(0,0)\n",
    "       \n",
    "max_total(mat, 4)"
   ]
  }
 ],
 "metadata": {
  "language_info": {
   "codemirror_mode": {
    "name": "ipython",
    "version": 3
   },
   "file_extension": ".py",
   "mimetype": "text/x-python",
   "name": "python",
   "nbconvert_exporter": "python",
   "pygments_lexer": "ipython3",
   "version": 3
  },
  "orig_nbformat": 2,
  "kernelspec": {
   "name": "python_defaultSpec_1594228556706",
   "display_name": "Python 3.7.4 64-bit"
  }
 },
 "nbformat": 4,
 "nbformat_minor": 2
}